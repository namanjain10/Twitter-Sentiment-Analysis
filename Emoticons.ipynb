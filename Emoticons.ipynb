{
 "cells": [
  {
   "cell_type": "code",
   "execution_count": 48,
   "metadata": {
    "collapsed": true
   },
   "outputs": [],
   "source": [
    "emot = {}"
   ]
  },
  {
   "cell_type": "code",
   "execution_count": 49,
   "metadata": {},
   "outputs": [],
   "source": [
    "emot[':‑)'] = 'happy'\n",
    "emot[':-]'] = 'happy'\n",
    "emot[':)'] = 'happy'\n",
    "emot[':]'] = 'happy'\n",
    "emot[':-3'] = 'happy'\n",
    "emot[':3'] = 'happy'\n",
    "emot[':->'] = 'happy'\n",
    "emot['8-)'] = 'happy'\n",
    "emot[':>'] = 'happy'\n",
    "emot['8)'] = 'happy'\n",
    "emot[':-}'] = 'happy'\n",
    "emot[':o)'] = 'happy'\n",
    "emot[':}']= 'happy'\n",
    "emot[':c)'] = 'happy'\n",
    "emot[':^)'] = 'happy'\n",
    "emot['=]'] = 'happy'\n",
    "emot['=)'] = 'happy'\n"
   ]
  },
  {
   "cell_type": "code",
   "execution_count": 50,
   "metadata": {},
   "outputs": [],
   "source": [
    "emot[':‑D'] = 'laugh'\n",
    "emot[':D'] = 'laugh'\n",
    "emot['8‑D'] = 'laugh'\n",
    "emot['x‑D'] = 'laugh'\n",
    "emot['8D'] = 'laugh'\n",
    "emot['X‑D'] = 'laugh'\n",
    "emot['xD'] = 'laugh'\n",
    "emot['XD'] = 'laugh'\n",
    "emot['=D'] = 'laugh'\n",
    "emot['=3'] = 'laugh'\n",
    "emot['B^D'] = 'laugh'"
   ]
  },
  {
   "cell_type": "code",
   "execution_count": 51,
   "metadata": {
    "collapsed": true
   },
   "outputs": [],
   "source": [
    "emot[':-))'] = 'very happy'"
   ]
  },
  {
   "cell_type": "code",
   "execution_count": 52,
   "metadata": {
    "collapsed": true
   },
   "outputs": [],
   "source": [
    "emot[':‑('] = 'sad'\n",
    "emot[':('] = 'sad'\n",
    "emot[':‑c'] = 'sad'\n",
    "emot[':c'] = 'sad'\n",
    "emot[':‑<'] = 'sad'\n",
    "emot[':<'] = 'sad'\n",
    "emot[':‑['] = 'sad'\n",
    "emot[':['] = 'sad'\n",
    "emot[':-||'] = 'sad'\n",
    "emot['>:['] = 'sad'\n",
    "emot[':{'] = 'sad'\n",
    "emot[':@'] = 'sad'\n",
    "emot['>:('] = 'sad'"
   ]
  },
  {
   "cell_type": "code",
   "execution_count": 53,
   "metadata": {
    "collapsed": true
   },
   "outputs": [],
   "source": [
    "emot[\":'‑(\"] = 'cry'\n",
    "emot[\":'(\"] = 'cry'"
   ]
  },
  {
   "cell_type": "code",
   "execution_count": 54,
   "metadata": {
    "collapsed": true
   },
   "outputs": [],
   "source": [
    "emot[\":'‑)\"] = 'happiness'\n",
    "emot[\":')\"] = 'happiness'"
   ]
  },
  {
   "cell_type": "code",
   "execution_count": 55,
   "metadata": {
    "collapsed": true
   },
   "outputs": [],
   "source": [
    "emot['DX'] = 'sadness'\n",
    "emot['D='] = 'sadness'\n",
    "emot['D;'] = 'sadness'\n",
    "emot['D8'] = 'sadness'\n",
    "emot['D:'] = 'sadness'\n",
    "emot['D:<'] = 'sadness'\n",
    "emot[\"D‑':\"] = 'sadness'"
   ]
  },
  {
   "cell_type": "code",
   "execution_count": 56,
   "metadata": {
    "collapsed": true
   },
   "outputs": [],
   "source": [
    "emot[':‑O'] = 'surprise'\n",
    "emot[':O'] = 'surprise'\n",
    "emot[':o'] = 'surprise'\n",
    "emot[':-0'] = 'surprise'\n",
    "emot['8‑0'] = 'surprise'\n",
    "emot['>:O'] = 'surprise'\n",
    "emot[':-o'] = 'surprise'"
   ]
  },
  {
   "cell_type": "code",
   "execution_count": 57,
   "metadata": {
    "collapsed": true
   },
   "outputs": [],
   "source": [
    "emot[':-*'] = 'kiss'\n",
    "emot[':*'] = 'kiss'\n",
    "emot[':×'] = 'kiss'"
   ]
  },
  {
   "cell_type": "code",
   "execution_count": 58,
   "metadata": {
    "collapsed": true
   },
   "outputs": [],
   "source": [
    "emot[';‑)'] = 'wink'\n",
    "emot[';)'] = 'wink'\n",
    "emot['*-)'] = 'wink'\n",
    "emot['*)'] = 'wink'\n",
    "emot[';‑]'] = 'wink'\n",
    "emot[';]'] = 'wink'\n",
    "emot[';^)'] = 'wink'\n",
    "emot[':‑,'] = 'wink'\n",
    "emot[';D'] = 'wink'"
   ]
  },
  {
   "cell_type": "code",
   "execution_count": 59,
   "metadata": {
    "collapsed": true
   },
   "outputs": [],
   "source": [
    "emot[':‑P'] = 'playful'\n",
    "emot[':P'] = 'playful'\n",
    "emot['X‑P'] = 'playful'\n",
    "emot['XP'] = 'playful'\n",
    "emot['x‑p'] = 'playful'\n",
    "emot['xp'] = 'playful'\n",
    "emot[':‑p'] = 'playful'\n",
    "emot[':‑Þ'] = 'playful'\n",
    "emot[':p'] = 'playful'\n",
    "emot[':Þ'] = 'playful'\n",
    "emot[':‑þ'] = 'playful'\n",
    "emot[':þ'] = 'playful'\n",
    "emot[':‑b'] = 'playful'\n",
    "emot[':b'] = 'playful'\n",
    "emot['d:'] = 'playful'\n",
    "emot['>:P'] = 'playful'\n",
    "emot['=p'] = 'playful'"
   ]
  },
  {
   "cell_type": "code",
   "execution_count": 60,
   "metadata": {},
   "outputs": [],
   "source": [
    "emot[':‑/'] = 'annoyed'\n",
    "emot[':/'] = 'annoyed'\n",
    "emot[':‑.'] = 'annoyed'\n",
    "emot[\">:\\\\\"] = 'annoyed'\n",
    "emot['>:/'] = 'annoyed'\n",
    "emot[\":\\\\\"] = 'annoyed'\n",
    "emot['=/'] = 'annoyed'\n",
    "emot[\"=\\\\\"] = 'annoyed'\n",
    "emot[':L'] = 'annoyed'\n",
    "emot['=L'] = 'annoyed'\n",
    "emot[':S'] = 'annoyed'"
   ]
  },
  {
   "cell_type": "code",
   "execution_count": 61,
   "metadata": {
    "collapsed": true
   },
   "outputs": [],
   "source": [
    "emot[':|'] = 'Straight face'\n",
    "emot[':-|'] = 'Straight face'"
   ]
  },
  {
   "cell_type": "code",
   "execution_count": 62,
   "metadata": {
    "collapsed": true
   },
   "outputs": [],
   "source": [
    "emot[':$'] = 'embarrassed'"
   ]
  },
  {
   "cell_type": "code",
   "execution_count": 63,
   "metadata": {
    "collapsed": true
   },
   "outputs": [],
   "source": [
    "emot[':‑X'] = 'sealed lips'\n",
    "emot[':X'] = 'sealed lips'\n",
    "emot[':‑&'] = 'sealed lips'\n",
    "emot[':#'] = 'sealed lips'\n",
    "emot[':‑#'] = 'sealed lips'\n",
    "emot[':&'] = 'sealed lips'\n"
   ]
  },
  {
   "cell_type": "code",
   "execution_count": 64,
   "metadata": {
    "collapsed": true
   },
   "outputs": [],
   "source": [
    "emot['O:‑)'] = 'angel'\n",
    "emot['0:‑3'] = 'angel'\n",
    "emot['O:)'] = 'angel'\n",
    "emot['0:3'] = 'angel'\n",
    "emot['0:‑)'] = 'angel'\n",
    "emot['0:)'] = 'angel'\n",
    "emot['0;^)'] = 'angel'"
   ]
  },
  {
   "cell_type": "code",
   "execution_count": 65,
   "metadata": {
    "collapsed": true
   },
   "outputs": [],
   "source": [
    "emot['>:‑)'] = 'evil'\n",
    "emot['}:‑)'] = 'evil'\n",
    "emot['>:)'] = 'evil'\n",
    "emot['3:‑)'] = 'evil'\n",
    "emot['}:)'] = 'evil'\n",
    "emot['3:)'] = 'evil'\n",
    "emot['>;)'] = 'evil'"
   ]
  },
  {
   "cell_type": "code",
   "execution_count": 66,
   "metadata": {
    "collapsed": true
   },
   "outputs": [],
   "source": [
    "emot['|;‑)'] = 'cool'\n",
    "emot['|‑O'] = 'bored'\n",
    "emot[':‑J'] = 'tongue in cheek'\n",
    "emot['#‑)'] = 'partied all night'\n",
    "emot['%‑)'] = 'drunk'\n",
    "emot['%)'] = 'drunk'\n",
    "emot[':‑###..'] = 'sick'\n",
    "emot[':###..'] = 'sick'\n",
    "emot['<:‑|'] = 'dumb'\n",
    "emot[',:-|'] = 'disbelief'\n",
    "emot[',:-l'] = 'disbelief'"
   ]
  },
  {
   "cell_type": "code",
   "execution_count": 67,
   "metadata": {},
   "outputs": [
    {
     "data": {
      "text/plain": [
       "{'#‑)': 'partied all night',\n",
       " '%)': 'drunk',\n",
       " '%‑)': 'drunk',\n",
       " '*)': 'wink',\n",
       " '*-)': 'wink',\n",
       " ',:-l': 'disbelief',\n",
       " ',:-|': 'disbelief',\n",
       " '0:)': 'angel',\n",
       " '0:3': 'angel',\n",
       " '0:‑)': 'angel',\n",
       " '0:‑3': 'angel',\n",
       " '0;^)': 'angel',\n",
       " '3:)': 'evil',\n",
       " '3:‑)': 'evil',\n",
       " '8)': 'happy',\n",
       " '8-)': 'happy',\n",
       " '8D': 'laugh',\n",
       " '8‑0': 'surprise',\n",
       " '8‑D': 'laugh',\n",
       " ':#': 'sealed lips',\n",
       " ':###..': 'sick',\n",
       " ':$': 'embarrassed',\n",
       " ':&': 'sealed lips',\n",
       " \":'(\": 'cry',\n",
       " \":')\": 'happiness',\n",
       " \":'‑(\": 'cry',\n",
       " \":'‑)\": 'happiness',\n",
       " ':(': 'sad',\n",
       " ':)': 'happy',\n",
       " ':*': 'kiss',\n",
       " ':-))': 'very happy',\n",
       " ':-*': 'kiss',\n",
       " ':-0': 'surprise',\n",
       " ':-3': 'happy',\n",
       " ':->': 'happy',\n",
       " ':-]': 'happy',\n",
       " ':-o': 'surprise',\n",
       " ':-|': 'Straight face',\n",
       " ':-||': 'sad',\n",
       " ':-}': 'happy',\n",
       " ':/': 'annoyed',\n",
       " ':3': 'happy',\n",
       " ':<': 'sad',\n",
       " ':>': 'happy',\n",
       " ':@': 'sad',\n",
       " ':D': 'laugh',\n",
       " ':L': 'annoyed',\n",
       " ':O': 'surprise',\n",
       " ':P': 'playful',\n",
       " ':S': 'annoyed',\n",
       " ':X': 'sealed lips',\n",
       " ':[': 'sad',\n",
       " ':\\\\': 'annoyed',\n",
       " ':]': 'happy',\n",
       " ':^)': 'happy',\n",
       " ':b': 'playful',\n",
       " ':c': 'sad',\n",
       " ':c)': 'happy',\n",
       " ':o': 'surprise',\n",
       " ':o)': 'happy',\n",
       " ':p': 'playful',\n",
       " ':{': 'sad',\n",
       " ':|': 'Straight face',\n",
       " ':}': 'happy',\n",
       " ':×': 'kiss',\n",
       " ':Þ': 'playful',\n",
       " ':þ': 'playful',\n",
       " ':‑#': 'sealed lips',\n",
       " ':‑###..': 'sick',\n",
       " ':‑&': 'sealed lips',\n",
       " ':‑(': 'sad',\n",
       " ':‑)': 'happy',\n",
       " ':‑,': 'wink',\n",
       " ':‑.': 'annoyed',\n",
       " ':‑/': 'annoyed',\n",
       " ':‑<': 'sad',\n",
       " ':‑D': 'laugh',\n",
       " ':‑J': 'tongue in cheek',\n",
       " ':‑O': 'surprise',\n",
       " ':‑P': 'playful',\n",
       " ':‑X': 'sealed lips',\n",
       " ':‑[': 'sad',\n",
       " ':‑b': 'playful',\n",
       " ':‑c': 'sad',\n",
       " ':‑p': 'playful',\n",
       " ':‑Þ': 'playful',\n",
       " ':‑þ': 'playful',\n",
       " ';)': 'wink',\n",
       " ';D': 'wink',\n",
       " ';]': 'wink',\n",
       " ';^)': 'wink',\n",
       " ';‑)': 'wink',\n",
       " ';‑]': 'wink',\n",
       " '<:‑|': 'dumb',\n",
       " '=)': 'happy',\n",
       " '=/': 'annoyed',\n",
       " '=3': 'laugh',\n",
       " '=D': 'laugh',\n",
       " '=L': 'annoyed',\n",
       " '=\\\\': 'annoyed',\n",
       " '=]': 'happy',\n",
       " '=p': 'playful',\n",
       " '>:(': 'sad',\n",
       " '>:)': 'evil',\n",
       " '>:/': 'annoyed',\n",
       " '>:O': 'surprise',\n",
       " '>:P': 'playful',\n",
       " '>:[': 'sad',\n",
       " '>:\\\\': 'annoyed',\n",
       " '>:‑)': 'evil',\n",
       " '>;)': 'evil',\n",
       " 'B^D': 'laugh',\n",
       " 'D8': 'sadness',\n",
       " 'D:': 'sadness',\n",
       " 'D:<': 'sadness',\n",
       " 'D;': 'sadness',\n",
       " 'D=': 'sadness',\n",
       " 'DX': 'sadness',\n",
       " \"D‑':\": 'sadness',\n",
       " 'O:)': 'angel',\n",
       " 'O:‑)': 'angel',\n",
       " 'XD': 'laugh',\n",
       " 'XP': 'playful',\n",
       " 'X‑D': 'laugh',\n",
       " 'X‑P': 'playful',\n",
       " 'd:': 'playful',\n",
       " 'xD': 'laugh',\n",
       " 'xp': 'playful',\n",
       " 'x‑D': 'laugh',\n",
       " 'x‑p': 'playful',\n",
       " '|;‑)': 'cool',\n",
       " '|‑O': 'bored',\n",
       " '}:)': 'evil',\n",
       " '}:‑)': 'evil'}"
      ]
     },
     "execution_count": 67,
     "metadata": {},
     "output_type": "execute_result"
    }
   ],
   "source": [
    "emot"
   ]
  },
  {
   "cell_type": "code",
   "execution_count": 68,
   "metadata": {},
   "outputs": [
    {
     "data": {
      "text/plain": [
       "134"
      ]
     },
     "execution_count": 68,
     "metadata": {},
     "output_type": "execute_result"
    }
   ],
   "source": [
    "len(emot)"
   ]
  },
  {
   "cell_type": "code",
   "execution_count": 71,
   "metadata": {},
   "outputs": [],
   "source": [
    "import csv\n",
    "\n",
    "with open('emoticon.csv', 'w') as csv_file:\n",
    "    writer = csv.writer(csv_file)\n",
    "    for key, value in emot.items():\n",
    "        writer.writerow([key, value])"
   ]
  },
  {
   "cell_type": "code",
   "execution_count": null,
   "metadata": {
    "collapsed": true
   },
   "outputs": [],
   "source": []
  }
 ],
 "metadata": {
  "kernelspec": {
   "display_name": "Python 3",
   "language": "python",
   "name": "python3"
  },
  "language_info": {
   "codemirror_mode": {
    "name": "ipython",
    "version": 3
   },
   "file_extension": ".py",
   "mimetype": "text/x-python",
   "name": "python",
   "nbconvert_exporter": "python",
   "pygments_lexer": "ipython3",
   "version": "3.6.2"
  }
 },
 "nbformat": 4,
 "nbformat_minor": 2
}
